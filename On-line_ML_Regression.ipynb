{
 "cells": [
  {
   "cell_type": "markdown",
   "metadata": {},
   "source": [
    "# Машинное обучение в потоке данных. Регрессия"
   ]
  },
  {
   "cell_type": "markdown",
   "metadata": {},
   "source": [
    "Реализация градиентного спуска, способного выполнять обработку и оценку качества в потоке данных. Версия для обработки большого массива данных на локальной машине."
   ]
  },
  {
   "cell_type": "code",
   "execution_count": 8,
   "metadata": {},
   "outputs": [
    {
     "name": "stdout",
     "output_type": "stream",
     "text": [
      "22:15:44 RMSE на отложенных данных: 281.065\n",
      "RMSLE на отложенных данных: 1.899\n",
      "22:15:44 RMSE на отложенных данных: 254.958\n",
      "RMSLE на отложенных данных: 1.800\n",
      "22:15:44 RMSE на отложенных данных: 255.456\n",
      "RMSLE на отложенных данных: 1.798\n",
      "22:15:44 RMSE на отложенных данных: 254.563\n",
      "RMSLE на отложенных данных: 1.818\n",
      "22:15:45 RMSE на отложенных данных: 239.740\n",
      "RMSLE на отложенных данных: 1.737\n",
      "22:15:45 ИТОГОВАЯ RMSE на отложенных данных: 229.274\n",
      "22:15:45 ИТОГОВАЯ RMSLE на отложенных данных: 1.678\n"
     ]
    }
   ],
   "source": [
    "import csv, time, os\n",
    "import numpy as np\n",
    "from sklearn.linear_model import SGDRegressor\n",
    "from sklearn.feature_extraction import FeatureHasher\n",
    "\n",
    "source = \"\\\\bikesharing\\\\hour.csv\"\n",
    "local_path = os.getcwd()\n",
    "SEP = \",\"\n",
    "\n",
    "def apply_log(x): return np.log(float(x)+1)\n",
    "def apply_exp(x): return np.exp(float(x))-1\n",
    "\n",
    "SGD = SGDRegressor(loss=\"squared_loss\", penalty=None, random_state=1, average=True)\n",
    "h = FeatureHasher(non_negative=True)\n",
    "val_rmse = 0\n",
    "val_rmsle = 0\n",
    "predictions_start = 16000\n",
    "\n",
    "with open(local_path+\"\\\\\"+source, \"r\") as R:           \n",
    "    iterator = csv.DictReader(R, delimiter=SEP)\n",
    "    \n",
    "    for n, row in enumerate(iterator):\n",
    "        # ОБРАБОТКА ДАННЫХ\n",
    "        target = np.array([apply_log(row[\"cnt\"])])\n",
    "        \n",
    "        features = {k+\"_\"+v:1 \n",
    "                    for k,v in row.items() # в Python2 ->  row.iteritems()\n",
    "                    if k in ['holiday','hr','mnth','season', 'weathersit','weekday','workingday','yr']}\n",
    "        \n",
    "        numeric_features = {k:float(v)    # в Python2 ->  row.iteritems()\n",
    "                            for k,v in row.items() if k in ['hum', 'temp', 'atemp', 'windspeed']}\n",
    "        \n",
    "        features.update(numeric_features)\n",
    "        hashed_features = h.transform([features])\n",
    "        \n",
    "        # МАШИННОЕ ОБУЧЕНИЕ\n",
    "        if (n+1) >= predictions_start:\n",
    "            \n",
    "            # ФАЗА С ОТКЛАДЫВАНИЕМ ПОСЛЕ N\n",
    "            predicted = SGD.predict(hashed_features)\n",
    "            val_rmse += (apply_exp(predicted) - apply_exp(target))**2\n",
    "            val_rmsle += (predicted - target)**2\n",
    "            \n",
    "            if (n-predictions_start+1) % 250 == 0 and (n+1) > predictions_start:\n",
    "                print(\"%s RMSE на отложенных данных: %0.3f\" \n",
    "                       % (time.strftime('%X'), (val_rmse / float(n-predictions_start+1))**0.5)),\n",
    "                print(\"RMSLE на отложенных данных: %0.3f\" \n",
    "                       % ((val_rmsle / float(n-predictions_start+1))**0.5))\n",
    "        else:\n",
    "            # ФАЗА ОБУЧЕНИЯ\n",
    "            SGD.partial_fit(hashed_features, target)\n",
    "            \n",
    "print(\"%s ИТОГОВАЯ RMSE на отложенных данных: %0.3f\" \n",
    "       % (time.strftime(\"%X\"), (val_rmse / float(n-predictions_start+1))**0.5))\n",
    "print(\"%s ИТОГОВАЯ RMSLE на отложенных данных: %0.3f\" \n",
    "       % (time.strftime(\"%X\"), (val_rmsle / float(n-predictions_start+1))**0.5))"
   ]
  },
  {
   "cell_type": "code",
   "execution_count": null,
   "metadata": {
    "collapsed": true
   },
   "outputs": [],
   "source": []
  }
 ],
 "metadata": {
  "kernelspec": {
   "display_name": "Python 3",
   "language": "python",
   "name": "python3"
  },
  "language_info": {
   "codemirror_mode": {
    "name": "ipython",
    "version": 3
   },
   "file_extension": ".py",
   "mimetype": "text/x-python",
   "name": "python",
   "nbconvert_exporter": "python",
   "pygments_lexer": "ipython3",
   "version": "3.7.3"
  }
 },
 "nbformat": 4,
 "nbformat_minor": 1
}
