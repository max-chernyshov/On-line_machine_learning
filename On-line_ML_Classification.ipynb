{
 "cells": [
  {
   "cell_type": "markdown",
   "metadata": {},
   "source": [
    "# Машинное обучение в потоке данных. Классификация"
   ]
  },
  {
   "cell_type": "markdown",
   "metadata": {},
   "source": [
    "Реализация градиентного спуска, способного выполнять обработку и оценку качества в потоке данных. Версия для обработки большого массива данных на локальной машине."
   ]
  },
  {
   "cell_type": "code",
   "execution_count": 5,
   "metadata": {},
   "outputs": [],
   "source": [
    "import os\n",
    "\n",
    "local_path = os.getcwd()\n",
    "source = \"covtype.data\"\n",
    "\n",
    "ram_shuffle(filename_in=local_path+\"\\\\\"+source, \n",
    "            filename_out=local_path+\"\\\\shuffled_covtype.data\", \n",
    "            header=False)"
   ]
  },
  {
   "cell_type": "code",
   "execution_count": 6,
   "metadata": {},
   "outputs": [
    {
     "name": "stdout",
     "output_type": "stream",
     "text": [
      "19:33:10 точность на отложенных данных: 0.603\n",
      "19:33:10 точность с прогрессивным контролем: 0.617\n",
      "19:34:41 точность на отложенных данных: 0.610\n",
      "19:34:41 точность с прогрессивным контролем: 0.617\n",
      "19:34:41 ИТОГОВАЯ точность на отложенных данных: 0.610\n",
      "19:34:41 ИТОГОВАЯ точность с прогрессивным контролем: 0.617\n"
     ]
    }
   ],
   "source": [
    "import csv, time\n",
    "import numpy as np\n",
    "from sklearn.linear_model import SGDClassifier\n",
    "\n",
    "source = \"shuffled_covtype.data\"\n",
    "SEP = \",\"\n",
    "forest_type = [t+1 for t in range(7)]\n",
    "SGD = SGDClassifier(loss=\"log\", penalty=None, random_state=1, average=True)\n",
    "accuracy = 0\n",
    "holdout_count = 0\n",
    "prog_accuracy = 0\n",
    "prog_count = 0\n",
    "cold_start = 200000\n",
    "k_holdout = 10\n",
    "\n",
    "with open(local_path+\"\\\\\"+source, \"r\") as R:   \n",
    "    iterator = csv.reader(R, delimiter=SEP)\n",
    "    \n",
    "    for n, row in enumerate(iterator):\n",
    "        if n > 250000: # Сокращение времени выполнения эксперимента\n",
    "            break \n",
    "            \n",
    "        # ОБРАБОТКА ДАННЫХ\n",
    "        response = np.array([int(row[-1])]) # Откликом является последнее значение\n",
    "        features = np.array(list(map(float,row[:-1]))).reshape(1,-1)  # см. описание ниже\n",
    "        \n",
    "        # МАШИННОЕ ОБУЧЕНИЕ\n",
    "        if (n+1) >= cold_start and (n+1-cold_start) % k_holdout==0:\n",
    "            if int(SGD.predict(features))==response[0]:\n",
    "                accuracy += 1\n",
    "            holdout_count += 1\n",
    "            if (n+1-cold_start) % 25000 == 0 and (n+1) > cold_start:\n",
    "                    print(\"%s точность на отложенных данных: %0.3f\" \n",
    "                           % (time.strftime('%X'), accuracy / float(holdout_count)))\n",
    "        else:\n",
    "            \n",
    "            # ПРОГРЕССИВНЫЙ КОНТРОЛЬ\n",
    "            if (n+1) >= cold_start:\n",
    "                if int(SGD.predict(features))==response[0]:\n",
    "                    prog_accuracy += 1\n",
    "                prog_count += 1\n",
    "                if n % 25000 == 0 and n > cold_start:\n",
    "                    print(\"%s точность с прогрессивным контролем: %0.3f\" \n",
    "                           % (time.strftime(\"%X\"), prog_accuracy / float(prog_count)))\n",
    "                    \n",
    "            # ФАЗА ОБУЧЕНИЯ\n",
    "            SGD.partial_fit(features, response, classes=forest_type)\n",
    "            \n",
    "print(\"%s ИТОГОВАЯ точность на отложенных данных: %0.3f\" \n",
    "       % (time.strftime('%X'), accuracy / ((n+1-cold_start) / float(k_holdout))))\n",
    "print(\"%s ИТОГОВАЯ точность с прогрессивным контролем: %0.3f\" \n",
    "       % (time.strftime(\"%X\"), prog_accuracy / float(prog_count)))"
   ]
  },
  {
   "cell_type": "code",
   "execution_count": null,
   "metadata": {
    "collapsed": true
   },
   "outputs": [],
   "source": []
  }
 ],
 "metadata": {
  "kernelspec": {
   "display_name": "Python 3",
   "language": "python",
   "name": "python3"
  },
  "language_info": {
   "codemirror_mode": {
    "name": "ipython",
    "version": 3
   },
   "file_extension": ".py",
   "mimetype": "text/x-python",
   "name": "python",
   "nbconvert_exporter": "python",
   "pygments_lexer": "ipython3",
   "version": "3.7.3"
  }
 },
 "nbformat": 4,
 "nbformat_minor": 1
}
